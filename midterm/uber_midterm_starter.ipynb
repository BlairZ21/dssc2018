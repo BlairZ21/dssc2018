{
 "cells": [
  {
   "cell_type": "markdown",
   "metadata": {},
   "source": [
    "# Uber Midterm\n",
    "\n",
    "The dataset is San Francisco Taxi data from September 2012. The dataset consists of 50,000 taxi trips taken in the Bay Area during that time period. For each trip you are given the departure time, arrival time, passenger fare, departure and arrival coordinates as well as departure and arrival TAZs. "
   ]
  },
  {
   "cell_type": "code",
   "execution_count": null,
   "metadata": {
    "collapsed": true
   },
   "outputs": [],
   "source": [
    "from datascience import *\n",
    "import datetime\n",
    "import matplotlib.pyplot as plt\n",
    "import numpy as np\n",
    "\n",
    "%matplotlib inline"
   ]
  },
  {
   "cell_type": "code",
   "execution_count": null,
   "metadata": {},
   "outputs": [],
   "source": [
    "sf_taxi_trips = Table.read_table('Taxi_Train.csv')\n",
    "sf_taxi_trips"
   ]
  },
  {
   "cell_type": "markdown",
   "metadata": {},
   "source": [
    "## Adding meaningful columns to our data table\n",
    "The data table is rich, but the inputs are not as useful as they could be. For example we have date/time strings for arrival and departure. We may like to have information on trip duration, rather than a list of start and end times."
   ]
  },
  {
   "cell_type": "markdown",
   "metadata": {},
   "source": [
    "### Computing Trip Duration\n",
    "You can write our own methods to help process the data. For example you can create a method to compute trip duration. First you have to convert the departure time and arrival time into a timestamp, then compute the difference and convert it to minutes.\n",
    "\n",
    "For example, you can use the functions below and the [.apply](http://data8.org/datascience/_autosummary/datascience.tables.Table.apply.html#datascience.tables.Table.apply) method to create a 'duration' column, a trip 'start hour' column, a trip 'date' column, and a trip 'day of week' column in the table."
   ]
  },
  {
   "cell_type": "code",
   "execution_count": null,
   "metadata": {
    "collapsed": true
   },
   "outputs": [],
   "source": [
    "def get_hour(s): \n",
    "    return datetime.datetime.strptime(s, \"%m/%d/%y %H:%M\").hour\n",
    "\n",
    "def get_date(s): \n",
    "    return datetime.datetime.strptime(s, \"%m/%d/%y %H:%M\").date()\n",
    "\n",
    "def get_weekday(s): # 0 = Monday - 6= Sunday\n",
    "    return datetime.datetime.strptime(s, \"%m/%d/%y %H:%M\").date().weekday()\n",
    "\n",
    "def get_duration(start, end): \n",
    "    start_time = datetime.datetime.strptime(start, \"%m/%d/%y %H:%M\")\n",
    "    end_time = datetime.datetime.strptime(end, \"%m/%d/%y %H:%M\")\n",
    "    return (end_time-start_time).seconds/60."
   ]
  },
  {
   "cell_type": "code",
   "execution_count": null,
   "metadata": {},
   "outputs": [],
   "source": [
    "sf_taxi_trips['duration'] = sf_taxi_trips.apply(get_duration, 'start_time', 'end_time')"
   ]
  },
  {
   "cell_type": "markdown",
   "metadata": {},
   "source": [
    "### Visualize fares data\n",
    "As you are going to explore the dataset and to predict the fares, let's start with some simple visualizations."
   ]
  },
  {
   "cell_type": "code",
   "execution_count": null,
   "metadata": {},
   "outputs": [],
   "source": [
    "plt.figure(figsize = (10,6))\n",
    "plt.hist(sf_taxi_trips['fare'], bins=50);"
   ]
  },
  {
   "cell_type": "code",
   "execution_count": null,
   "metadata": {},
   "outputs": [],
   "source": [
    "plt.figure(figsize=(10,10))\n",
    "\n",
    "plt.scatter(sf_taxi_trips['duration'], sf_taxi_trips['fare'], alpha=.5)\n",
    "\n",
    "plt.xlabel('Trip duration (min)')\n",
    "plt.ylabel('Trip fare ($)')"
   ]
  },
  {
   "cell_type": "markdown",
   "metadata": {},
   "source": [
    "## Linear regression\n",
    "\n",
    "You can use any method to predict the fares, but we encourage you to think how to apply Linear Regression https://www.inferentialthinking.com/chapters/15/Prediction "
   ]
  },
  {
   "cell_type": "code",
   "execution_count": null,
   "metadata": {
    "collapsed": true
   },
   "outputs": [],
   "source": []
  }
 ],
 "metadata": {
  "kernelspec": {
   "display_name": "Python 3",
   "language": "python",
   "name": "python3"
  },
  "language_info": {
   "codemirror_mode": {
    "name": "ipython",
    "version": 3
   },
   "file_extension": ".py",
   "mimetype": "text/x-python",
   "name": "python",
   "nbconvert_exporter": "python",
   "pygments_lexer": "ipython3",
   "version": "3.6.2"
  }
 },
 "nbformat": 4,
 "nbformat_minor": 1
}
