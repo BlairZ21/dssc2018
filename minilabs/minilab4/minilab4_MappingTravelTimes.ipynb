{
 "cells": [
  {
   "cell_type": "markdown",
   "metadata": {},
   "source": [
    "# Mini-lab 4 - Mapping TAZ travel times\n",
    "\n",
    "In this lab we will play with some data from the Metropolitan Transportation Commission on travel time from one Traffic Analysis Zone (TAZ) to another. We will use a mapping tool called folium to create a graphical representation of travel times throughout the area.\n"
   ]
  },
  {
   "cell_type": "code",
   "execution_count": null,
   "metadata": {},
   "outputs": [],
   "source": [
    "import folium\n",
    "import pandas as pd\n",
    "import geopandas as gpd\n",
    "import numpy as np\n",
    "\n",
    "from datascience import *"
   ]
  },
  {
   "cell_type": "markdown",
   "metadata": {},
   "source": [
    "## The datasets\n",
    "### MTC travel skims\n",
    "The Metropolitan Transportation Co,mission (MTC) is the regional transportation planning organization for the Bay Area. They host a database with average travel time, cost, and distance from each traffic analysis zone (TAZ) to all other TAZs in the Bay Area. The files have data for driving alone, car pooling, walking to transit, driving to transit, walking, and biking. \n",
    "\n",
    "We have pre-processed the data from the morning commute to include only TAZs around San Francisco, Oakland and Berkeley.\n",
    "\n",
    "More info on the dataset can be found here - http://analytics.mtc.ca.gov/foswiki/Main/SimpleSkims. \n",
    "The descriptions of the columns in the data set are shown below:\n",
    "\n",
    "|column|description|\n",
    "|---|---|\n",
    "|origin|Origin transportation analysis zone|\n",
    "|destination|Destination transportation analysis zone|\n",
    "|drive alone|Door-to-door time for the drive alone travel mode (i.e. single occupant private automobile)|\n",
    "|shared ride (2 people)|Door-to-door time for the shared ride 2 travel mode (i.e. double occupant private automobile)|\n",
    "|shared ride (3 people)|Door-to-door time for the shared ride 3+ travel mode (i.e. three-or-more occupants traveling in a private vehicle)|\n",
    "|walk|Door-to-door time for walking|\n",
    "|bike|Door-to-door time for bicycling|\n",
    "|walk-transit-walk|Door-to-door time for walk to transit to walk paths|\n",
    "|drive-transit-walk|Door-to-door time for drive to transit to walk paths|\n",
    "| walk-transit-drive|Door-to-door time for walk to transit to drive paths (returning home on a park-and-ride tour)|\n",
    "\n",
    "\n",
    "(The raw data with all bay area TAZs can be found at https://mtcdrive.app.box.com/2015-03-116)\n",
    "\n",
    "### Bay area TAZ geometry data\n",
    "GeoJSON is a format used for encoding a variety of geographic data structures. We have saved a GeoJSON file with the Traffic Analysis Zone (TAZ) polygons for the TAZs in the San Francisco, Oakland, and Berkeley region. We will use a mapping package called folium to map the TAZs.\n",
    "\n",
    "### Read the data\n",
    "First we read in the sf_oak_traveltimes_bymode.csv"
   ]
  },
  {
   "cell_type": "code",
   "execution_count": null,
   "metadata": {},
   "outputs": [],
   "source": [
    "# Read the timeskims datafile\n",
    "travel_time_data = pd.read_csv('sf_oak_traveltimes_bymode.csv')\n",
    "travel_time_data.head()"
   ]
  },
  {
   "cell_type": "markdown",
   "metadata": {},
   "source": [
    "**Question:** what is the drive alone travel time from origin TAZ 10 (in downtown SF) to destination TAZ \n",
    "1019 (the TAZ at UC Berkeley) according to this dataset?\n",
    "\n",
    "Hint: use Pandas or transform a table to a datascience table and use a where() statement to find the answer."
   ]
  },
  {
   "cell_type": "code",
   "execution_count": 2,
   "metadata": {},
   "outputs": [],
   "source": [
    "# Your code and anwer here:\n",
    "\n",
    "# datascience users: use this hint and apply where statement!\n",
    "# Table.from_df(travel_time_data).where('origin', 10).where('destination', 1019)['drive alone'] "
   ]
  },
  {
   "cell_type": "markdown",
   "metadata": {
    "collapsed": true
   },
   "source": [
    "# Part 2: Use the mapping tools to visualise the TAZs data\n",
    "\n",
    "As mentioned above, geojson is a standard format for encoding geographic data. 'SF_Oak_TAZs.geojson' is a geojson file that contains the TAZ geometry for TAZs in the San Francisco and Oakland area. We can use the mapping tools we have learned to create travel time maps."
   ]
  },
  {
   "cell_type": "code",
   "execution_count": null,
   "metadata": {
    "collapsed": true
   },
   "outputs": [],
   "source": [
    "taz_geo_path = 'SF_Oak_TAZs.geojson'"
   ]
  },
  {
   "cell_type": "markdown",
   "metadata": {},
   "source": [
    "# Using maps to convey information\n"
   ]
  },
  {
   "cell_type": "code",
   "execution_count": null,
   "metadata": {
    "collapsed": true
   },
   "outputs": [],
   "source": [
    "# load geo data"
   ]
  },
  {
   "cell_type": "markdown",
   "metadata": {},
   "source": [
    "## Color the map based on the 'bike' travel time from one origin TAZ to all other TAZs.\n",
    "In the next few cells you will create a **very cool** data visualization tool to visualize the travel time from an origin TAZ to all destination TAZs."
   ]
  },
  {
   "cell_type": "code",
   "execution_count": null,
   "metadata": {
    "collapsed": true
   },
   "outputs": [],
   "source": []
  },
  {
   "cell_type": "markdown",
   "metadata": {},
   "source": [
    "# Color unreachale TAZs Grey (optional)\n",
    "For the datasets provided, MTC follows a convention of setting travel time = '-999' in the data table if they have determined that a mode is not feasible to get from an origin TAZ to a destination TAZ. For example, a bike trip from San Francisco to Oakland is not possible because bikes are not allowed accross the Bay Bridge. Similarly some walk distances are determined to be too far to make a trip on foot.\n",
    "Color all TAZs with a travel time of -999 grey. Hint - use a procedure similar to the procedure used to color the origin blue."
   ]
  },
  {
   "cell_type": "code",
   "execution_count": null,
   "metadata": {
    "collapsed": true
   },
   "outputs": [],
   "source": []
  },
  {
   "cell_type": "markdown",
   "metadata": {},
   "source": [
    "# Put it all in one method (optional)\n",
    "\n",
    "Create a function that produces a travel time map. You have all of the components above, just fill them in to the function below."
   ]
  },
  {
   "cell_type": "code",
   "execution_count": null,
   "metadata": {
    "collapsed": true
   },
   "outputs": [],
   "source": [
    "def create_travel_time_map(data, base_taz_map, origin_taz_id=1, mode='drive alone', color_palette='YlOrRd', \n",
    "                  threshold_scale=[5,10,15,20,25], output_file_path = 'output_map.html'):\n",
    "\n",
    "    \n",
    "    return None"
   ]
  },
  {
   "cell_type": "markdown",
   "metadata": {},
   "source": [
    "Test your method "
   ]
  },
  {
   "cell_type": "code",
   "execution_count": null,
   "metadata": {},
   "outputs": [],
   "source": []
  },
  {
   "cell_type": "markdown",
   "metadata": {},
   "source": [
    "# Explore travel times for other modes of transportation:"
   ]
  },
  {
   "cell_type": "code",
   "execution_count": null,
   "metadata": {
    "collapsed": true
   },
   "outputs": [],
   "source": []
  },
  {
   "cell_type": "markdown",
   "metadata": {},
   "source": [
    "# The relationship between spatial proximity and travel time\n",
    "For each of the following modes: drive, walk to transit, drive to transit, bike, and walk, do you think a straightline distance from one TAZ to another is a good indicator of travel time? Explain why or why not.\n",
    "\n"
   ]
  },
  {
   "cell_type": "code",
   "execution_count": null,
   "metadata": {
    "collapsed": true
   },
   "outputs": [],
   "source": [
    "# Your answer here:\n",
    "\n"
   ]
  }
 ],
 "metadata": {
  "kernelspec": {
   "display_name": "Python 3",
   "language": "python",
   "name": "python3"
  },
  "language_info": {
   "codemirror_mode": {
    "name": "ipython",
    "version": 3
   },
   "file_extension": ".py",
   "mimetype": "text/x-python",
   "name": "python",
   "nbconvert_exporter": "python",
   "pygments_lexer": "ipython3",
   "version": "3.6.2"
  }
 },
 "nbformat": 4,
 "nbformat_minor": 1
}
