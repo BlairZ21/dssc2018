{
 "cells": [
  {
   "cell_type": "markdown",
   "metadata": {},
   "source": [
    "# Mini-lab 4 - Mapping TAZ travel times\n",
    "\n",
    "In this lab we will play with some data from the Metropolitan Transportation Commission on travel time from one Traffic Analysis Zone (TAZ) to another. We will use a mapping tool called folium to create a graphical representation of travel times throughout the area.\n"
   ]
  },
  {
   "cell_type": "code",
   "execution_count": 1,
   "metadata": {},
   "outputs": [],
   "source": [
    "import folium\n",
    "import pandas as pd\n",
    "import geopandas as gpd\n",
    "import numpy as np\n",
    "\n",
    "from datascience import *"
   ]
  },
  {
   "cell_type": "markdown",
   "metadata": {},
   "source": [
    "## The datasets\n",
    "### MTC travel skims\n",
    "The Metropolitan Transportation Co,mission (MTC) is the regional transportation planning organization for the Bay Area. They host a database with average travel time, cost, and distance from each traffic analysis zone (TAZ) to all other TAZs in the Bay Area. The files have data for driving alone, car pooling, walking to transit, driving to transit, walking, and biking. \n",
    "\n",
    "We have pre-processed the data from the morning commute to include only TAZs around San Francisco, Oakland and Berkeley.\n",
    "\n",
    "More info on the dataset can be found here - http://analytics.mtc.ca.gov/foswiki/Main/SimpleSkims. \n",
    "The descriptions of the columns in the data set are shown below:\n",
    "\n",
    "|column|description|\n",
    "|---|---|\n",
    "|origin|Origin transportation analysis zone|\n",
    "|destination|Destination transportation analysis zone|\n",
    "|drive alone|Door-to-door time for the drive alone travel mode (i.e. single occupant private automobile)|\n",
    "|shared ride (2 people)|Door-to-door time for the shared ride 2 travel mode (i.e. double occupant private automobile)|\n",
    "|shared ride (3 people)|Door-to-door time for the shared ride 3+ travel mode (i.e. three-or-more occupants traveling in a private vehicle)|\n",
    "|walk|Door-to-door time for walking|\n",
    "|bike|Door-to-door time for bicycling|\n",
    "|walk-transit-walk|Door-to-door time for walk to transit to walk paths|\n",
    "|drive-transit-walk|Door-to-door time for drive to transit to walk paths|\n",
    "| walk-transit-drive|Door-to-door time for walk to transit to drive paths (returning home on a park-and-ride tour)|\n",
    "\n",
    "\n",
    "(The raw data with all bay area TAZs can be found at https://mtcdrive.app.box.com/2015-03-116)\n",
    "\n",
    "### Bay area TAZ geometry data\n",
    "GeoJSON is a format used for encoding a variety of geographic data structures. We have saved a GeoJSON file with the Traffic Analysis Zone (TAZ) polygons for the TAZs in the San Francisco, Oakland, and Berkeley region. We will use a mapping package called folium to map the TAZs.\n",
    "\n",
    "### Read the data\n",
    "First we read in the sf_oak_traveltimes_bymode.csv"
   ]
  },
  {
   "cell_type": "code",
   "execution_count": 2,
   "metadata": {},
   "outputs": [
    {
     "data": {
      "text/html": [
       "<div>\n",
       "<style scoped>\n",
       "    .dataframe tbody tr th:only-of-type {\n",
       "        vertical-align: middle;\n",
       "    }\n",
       "\n",
       "    .dataframe tbody tr th {\n",
       "        vertical-align: top;\n",
       "    }\n",
       "\n",
       "    .dataframe thead th {\n",
       "        text-align: right;\n",
       "    }\n",
       "</style>\n",
       "<table border=\"1\" class=\"dataframe\">\n",
       "  <thead>\n",
       "    <tr style=\"text-align: right;\">\n",
       "      <th></th>\n",
       "      <th>origin</th>\n",
       "      <th>destination</th>\n",
       "      <th>drive alone</th>\n",
       "      <th>shared ride (2 people)</th>\n",
       "      <th>shared ride (3 people)</th>\n",
       "      <th>walk</th>\n",
       "      <th>bike</th>\n",
       "      <th>walk-transit-walk</th>\n",
       "      <th>drive-transit-walk</th>\n",
       "      <th>walk-transit-drive</th>\n",
       "    </tr>\n",
       "  </thead>\n",
       "  <tbody>\n",
       "    <tr>\n",
       "      <th>0</th>\n",
       "      <td>1</td>\n",
       "      <td>1</td>\n",
       "      <td>5.92</td>\n",
       "      <td>5.92</td>\n",
       "      <td>5.92</td>\n",
       "      <td>2.4</td>\n",
       "      <td>0.60</td>\n",
       "      <td>-999.00</td>\n",
       "      <td>-999.00</td>\n",
       "      <td>-999.00</td>\n",
       "    </tr>\n",
       "    <tr>\n",
       "      <th>1</th>\n",
       "      <td>1</td>\n",
       "      <td>2</td>\n",
       "      <td>6.25</td>\n",
       "      <td>6.25</td>\n",
       "      <td>6.25</td>\n",
       "      <td>4.8</td>\n",
       "      <td>1.20</td>\n",
       "      <td>7.20</td>\n",
       "      <td>5.75</td>\n",
       "      <td>3.82</td>\n",
       "    </tr>\n",
       "    <tr>\n",
       "      <th>2</th>\n",
       "      <td>1</td>\n",
       "      <td>3</td>\n",
       "      <td>6.70</td>\n",
       "      <td>6.70</td>\n",
       "      <td>6.70</td>\n",
       "      <td>8.8</td>\n",
       "      <td>2.20</td>\n",
       "      <td>9.70</td>\n",
       "      <td>5.75</td>\n",
       "      <td>4.42</td>\n",
       "    </tr>\n",
       "    <tr>\n",
       "      <th>3</th>\n",
       "      <td>1</td>\n",
       "      <td>4</td>\n",
       "      <td>6.66</td>\n",
       "      <td>6.66</td>\n",
       "      <td>6.66</td>\n",
       "      <td>8.2</td>\n",
       "      <td>2.05</td>\n",
       "      <td>6.12</td>\n",
       "      <td>4.18</td>\n",
       "      <td>3.76</td>\n",
       "    </tr>\n",
       "    <tr>\n",
       "      <th>4</th>\n",
       "      <td>1</td>\n",
       "      <td>5</td>\n",
       "      <td>7.34</td>\n",
       "      <td>7.34</td>\n",
       "      <td>7.34</td>\n",
       "      <td>13.6</td>\n",
       "      <td>3.40</td>\n",
       "      <td>7.46</td>\n",
       "      <td>5.25</td>\n",
       "      <td>4.87</td>\n",
       "    </tr>\n",
       "  </tbody>\n",
       "</table>\n",
       "</div>"
      ],
      "text/plain": [
       "   origin  destination  drive alone  shared ride (2 people)  \\\n",
       "0       1            1         5.92                    5.92   \n",
       "1       1            2         6.25                    6.25   \n",
       "2       1            3         6.70                    6.70   \n",
       "3       1            4         6.66                    6.66   \n",
       "4       1            5         7.34                    7.34   \n",
       "\n",
       "   shared ride (3 people)  walk  bike  walk-transit-walk  drive-transit-walk  \\\n",
       "0                    5.92   2.4  0.60            -999.00             -999.00   \n",
       "1                    6.25   4.8  1.20               7.20                5.75   \n",
       "2                    6.70   8.8  2.20               9.70                5.75   \n",
       "3                    6.66   8.2  2.05               6.12                4.18   \n",
       "4                    7.34  13.6  3.40               7.46                5.25   \n",
       "\n",
       "   walk-transit-drive  \n",
       "0             -999.00  \n",
       "1                3.82  \n",
       "2                4.42  \n",
       "3                3.76  \n",
       "4                4.87  "
      ]
     },
     "execution_count": 2,
     "metadata": {},
     "output_type": "execute_result"
    }
   ],
   "source": [
    "# Read the timeskims datafile using pandas tables\n",
    "travel_time_data = pd.read_csv('sf_oak_traveltimes_bymode.csv')\n",
    "travel_time_data.head()"
   ]
  },
  {
   "cell_type": "code",
   "execution_count": 3,
   "metadata": {},
   "outputs": [],
   "source": [
    "# look at the data as a datascience Table() using the Table.from_df() function\n",
    "travel_time_data_ds_table = Table.from_df(travel_time_data)"
   ]
  },
  {
   "cell_type": "markdown",
   "metadata": {},
   "source": [
    "**Question:** what is the drive alone travel time from origin TAZ 10 (in downtown SF) to destination TAZ \n",
    "1019 (the TAZ at UC Berkeley) according to this dataset?\n",
    "\n",
    "Hint: use Pandas or transform a table to a datascience table and use a where() statement to find the answer."
   ]
  },
  {
   "cell_type": "code",
   "execution_count": 4,
   "metadata": {},
   "outputs": [
    {
     "data": {
      "text/plain": [
       "array([23.64])"
      ]
     },
     "execution_count": 4,
     "metadata": {},
     "output_type": "execute_result"
    }
   ],
   "source": [
    "# Your code and anwer here:\n",
    "\n",
    "# datascience users: use this hint and apply where statement!\n",
    "travel_time_data_ds_table.where('origin', 10).where('destination', 1019)['drive alone']"
   ]
  },
  {
   "cell_type": "markdown",
   "metadata": {
    "collapsed": true
   },
   "source": [
    "# Part 2: Use the mapping tools to visualise the TAZs data\n",
    "\n",
    "As mentioned above, geojson is a standard format for encoding geographic data. 'SF_Oak_TAZs.geojson' is a geojson file that contains the TAZ geometry for TAZs in the San Francisco and Oakland area. We can use the mapping tools we have learned to create travel time maps."
   ]
  },
  {
   "cell_type": "code",
   "execution_count": 5,
   "metadata": {},
   "outputs": [],
   "source": [
    "taz_geo_path = 'SF_Oak_TAZs.geojson'"
   ]
  },
  {
   "cell_type": "markdown",
   "metadata": {},
   "source": [
    "# Using maps to convey information\n"
   ]
  },
  {
   "cell_type": "code",
   "execution_count": 6,
   "metadata": {},
   "outputs": [
    {
     "data": {
      "text/html": [
       "<div>\n",
       "<style scoped>\n",
       "    .dataframe tbody tr th:only-of-type {\n",
       "        vertical-align: middle;\n",
       "    }\n",
       "\n",
       "    .dataframe tbody tr th {\n",
       "        vertical-align: top;\n",
       "    }\n",
       "\n",
       "    .dataframe thead th {\n",
       "        text-align: right;\n",
       "    }\n",
       "</style>\n",
       "<table border=\"1\" class=\"dataframe\">\n",
       "  <thead>\n",
       "    <tr style=\"text-align: right;\">\n",
       "      <th></th>\n",
       "      <th>County_FIP</th>\n",
       "      <th>UrbanTAZac</th>\n",
       "      <th>TAZ1454</th>\n",
       "      <th>geometry</th>\n",
       "    </tr>\n",
       "  </thead>\n",
       "  <tbody>\n",
       "    <tr>\n",
       "      <th>0</th>\n",
       "      <td>6075</td>\n",
       "      <td>20.074805</td>\n",
       "      <td>1</td>\n",
       "      <td>POLYGON ((-122.3962860018482 37.79333799956961...</td>\n",
       "    </tr>\n",
       "    <tr>\n",
       "      <th>1</th>\n",
       "      <td>6075</td>\n",
       "      <td>31.364645</td>\n",
       "      <td>2</td>\n",
       "      <td>POLYGON ((-122.3995499982689 37.79141500004747...</td>\n",
       "    </tr>\n",
       "    <tr>\n",
       "      <th>2</th>\n",
       "      <td>6075</td>\n",
       "      <td>14.595786</td>\n",
       "      <td>3</td>\n",
       "      <td>POLYGON ((-122.4040450015672 37.79076700146884...</td>\n",
       "    </tr>\n",
       "    <tr>\n",
       "      <th>3</th>\n",
       "      <td>6075</td>\n",
       "      <td>20.571218</td>\n",
       "      <td>4</td>\n",
       "      <td>POLYGON ((-122.3991319972654 37.79110199879706...</td>\n",
       "    </tr>\n",
       "    <tr>\n",
       "      <th>4</th>\n",
       "      <td>6075</td>\n",
       "      <td>49.489970</td>\n",
       "      <td>5</td>\n",
       "      <td>POLYGON ((-122.4032569981368 37.78780900006728...</td>\n",
       "    </tr>\n",
       "  </tbody>\n",
       "</table>\n",
       "</div>"
      ],
      "text/plain": [
       "   County_FIP  UrbanTAZac  TAZ1454  \\\n",
       "0        6075   20.074805        1   \n",
       "1        6075   31.364645        2   \n",
       "2        6075   14.595786        3   \n",
       "3        6075   20.571218        4   \n",
       "4        6075   49.489970        5   \n",
       "\n",
       "                                            geometry  \n",
       "0  POLYGON ((-122.3962860018482 37.79333799956961...  \n",
       "1  POLYGON ((-122.3995499982689 37.79141500004747...  \n",
       "2  POLYGON ((-122.4040450015672 37.79076700146884...  \n",
       "3  POLYGON ((-122.3991319972654 37.79110199879706...  \n",
       "4  POLYGON ((-122.4032569981368 37.78780900006728...  "
      ]
     },
     "execution_count": 6,
     "metadata": {},
     "output_type": "execute_result"
    }
   ],
   "source": [
    "# load geo data and look at the contents\n",
    "taz_geometries = gpd.read_file(taz_geo_path)\n",
    "taz_geometries.head()"
   ]
  },
  {
   "cell_type": "markdown",
   "metadata": {},
   "source": [
    "## Color the map based on the 'bike' travel time from one origin TAZ to all other TAZs.\n",
    "In the next few cells you will create a **very cool** data visualization tool to visualize the travel time from an origin TAZ to all destination TAZs."
   ]
  },
  {
   "cell_type": "code",
   "execution_count": 7,
   "metadata": {},
   "outputs": [],
   "source": [
    "travel_time_data_1 = travel_time_data[travel_time_data['origin']==1][['destination', 'bike']]"
   ]
  },
  {
   "cell_type": "code",
   "execution_count": 8,
   "metadata": {},
   "outputs": [],
   "source": [
    "bay_area_map = folium.Map(location=[38, -122], zoom_start=7)"
   ]
  },
  {
   "cell_type": "code",
   "execution_count": 9,
   "metadata": {},
   "outputs": [],
   "source": [
    "bay_area_map.choropleth(\n",
    "    geo_path=taz_geo_path, # path to the geojson file with state geometries\n",
    "    data=travel_time_data_1, \n",
    "    columns=['destination', 'bike'],\n",
    "    key_on='properties.TAZ1454', # IMPORTANT! use 'properties'\n",
    "    fill_color='YlGn',\n",
    "    threshold_scale=[5, 10, 15, 20, 25, 30]\n",
    ")"
   ]
  },
  {
   "cell_type": "code",
   "execution_count": 15,
   "metadata": {},
   "outputs": [],
   "source": [
    "bay_area_map.save(outfile='bay_area_cycling_from_1.html')"
   ]
  },
  {
   "cell_type": "markdown",
   "metadata": {},
   "source": [
    "# Color unreachale TAZs Grey (optional)\n",
    "For the datasets provided, MTC follows a convention of setting travel time = '-999' in the data table if they have determined that a mode is not feasible to get from an origin TAZ to a destination TAZ. For example, a bike trip from San Francisco to Oakland is not possible because bikes are not allowed accross the Bay Bridge. Similarly some walk distances are determined to be too far to make a trip on foot.\n",
    "Color all TAZs with a travel time of -999 grey. Hint - use a procedure similar to the procedure used to color the origin blue."
   ]
  },
  {
   "cell_type": "code",
   "execution_count": null,
   "metadata": {},
   "outputs": [],
   "source": []
  },
  {
   "cell_type": "markdown",
   "metadata": {},
   "source": [
    "# Put it all in one method (optional)\n",
    "\n",
    "Create a function that produces a travel time map. You have all of the components above, just fill them in to the function below."
   ]
  },
  {
   "cell_type": "code",
   "execution_count": 16,
   "metadata": {},
   "outputs": [],
   "source": [
    "def create_travel_time_map(mtc_data,\n",
    "                           taz_geo_path='SF_Oak_TAZs.geojson',\n",
    "                           origin_taz_id=1,\n",
    "                           travel_mode='drive alone',\n",
    "                           color_palette='YlOrRd', \n",
    "                           threshold_scale=[5,10,15,20,25]):\n",
    "    \"\"\" \n",
    "    Args:\n",
    "        mtc_data (pd.DataFrame): travel time data between origin and destiantion TAZs, by mode\n",
    "        taz_geo_path (str): path to geo file with TAZ geometries (for example 'SF_Oak_TAZs.geojson')\n",
    "        origin_taz_id (int): id of the origin of travel\n",
    "        travel_mode (str): one of the trael modes in mtc_data ('drive alone', 'bike', etc)\n",
    "        color_palette (str): folium color palette codename \n",
    "        threshold_scale (list): list of thesholds of the choropleth colors\n",
    "    \n",
    "    Returns: (folium.Map) a folium map with an overlay of travel times by mode from an origin\n",
    "    \"\"\"\n",
    "    travel_time_data = mtc_data[mtc_data['origin']==origin_taz_id][['destination', travel_mode]]\n",
    "    \n",
    "    bay_area_travel_time_map = folium.Map(location=[38, -122], zoom_start=10)\n",
    "    \n",
    "    bay_area_travel_time_map.choropleth(\n",
    "        geo_path=taz_geo_path, # path to the geojson file with state geometries\n",
    "        data=travel_time_data, \n",
    "        columns=['destination', travel_mode],\n",
    "        key_on='properties.TAZ1454', # IMPORTANT! use 'properties'\n",
    "        fill_color='YlGn',\n",
    "        threshold_scale=[5, 10, 15, 20, 25, 30]\n",
    "    )\n",
    "    \n",
    "    return bay_area_travel_time_map"
   ]
  },
  {
   "cell_type": "markdown",
   "metadata": {},
   "source": [
    "Test your method "
   ]
  },
  {
   "cell_type": "code",
   "execution_count": 17,
   "metadata": {},
   "outputs": [],
   "source": [
    "# create a map using desired arguments\n",
    "my_map = create_travel_time_map(travel_time_data, origin_taz_id = 1019)\n",
    "\n",
    "# save it as a file\n",
    "my_map.save(outfile='my_bay_area_map.html')"
   ]
  },
  {
   "cell_type": "markdown",
   "metadata": {},
   "source": [
    "# Explore travel times for other modes of transportation:"
   ]
  },
  {
   "cell_type": "code",
   "execution_count": 13,
   "metadata": {},
   "outputs": [],
   "source": [
    "# "
   ]
  },
  {
   "cell_type": "markdown",
   "metadata": {},
   "source": [
    "# The relationship between spatial proximity and travel time\n",
    "For each of the following modes: drive, walk to transit, drive to transit, bike, and walk, do you think a straightline distance from one TAZ to another is a good indicator of travel time? Explain why or why not.\n",
    "\n"
   ]
  },
  {
   "cell_type": "code",
   "execution_count": 14,
   "metadata": {},
   "outputs": [],
   "source": [
    "# Your answer here:\n",
    "\n"
   ]
  }
 ],
 "metadata": {
  "kernelspec": {
   "display_name": "Python 3",
   "language": "python",
   "name": "python3"
  },
  "language_info": {
   "codemirror_mode": {
    "name": "ipython",
    "version": 3
   },
   "file_extension": ".py",
   "mimetype": "text/x-python",
   "name": "python",
   "nbconvert_exporter": "python",
   "pygments_lexer": "ipython3",
   "version": "3.6.5"
  }
 },
 "nbformat": 4,
 "nbformat_minor": 1
}
